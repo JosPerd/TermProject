{
 "cells": [
  {
   "cell_type": "code",
   "execution_count": 53,
   "metadata": {},
   "outputs": [],
   "source": [
    "# import libraries\n",
    "import numpy as np\n",
    "import pandas as pd\n",
    "import matplotlib.pyplot as plt\n",
    "import seaborn as sns\n",
    "from sklearn import preprocessing\n",
    "from sklearn.ensemble import RandomForestClassifier\n",
    "from sklearn.model_selection import train_test_split\n",
    "from sklearn.metrics import accuracy_score\n"
   ]
  },
  {
   "cell_type": "code",
   "execution_count": 67,
   "metadata": {},
   "outputs": [],
   "source": [
    "# import data\n",
    "buildings = pd.read_excel('Data/Beithanun.xls', sheet_name='Buildings.dbf')\n",
    "vv_asc = pd.read_excel('Data/Beithanun.xls', sheet_name='Log_VV_asc')\n",
    "vv_desc = pd.read_excel('Data/Beithanun.xls', sheet_name='Log_VV_desc')\n",
    "vh_asc = pd.read_excel('Data/Beithanun.xls', sheet_name='Log_VH_asc')\n",
    "vh_desc = pd.read_excel('Data/Beithanun.xls', sheet_name='Log_VH_desc')\n",
    "sentinel_2 = pd.read_csv(\"Data/Sentinel2.csv\")\n",
    "test_ids = pd.read_csv(\"Data/nietopvoorspellen.csv\")\n"
   ]
  },
  {
   "cell_type": "code",
   "execution_count": 68,
   "metadata": {},
   "outputs": [
    {
     "name": "stderr",
     "output_type": "stream",
     "text": [
      "C:\\Users\\dhett\\AppData\\Local\\Temp\\ipykernel_32396\\1941711858.py:5: FutureWarning: Passing 'suffixes' which cause duplicate columns {'OBJECTID_x', 'ZONE_CODE_x', 'AREA_x', 'COUNT_x'} in the result is deprecated and will raise a MergeError in a future version.\n",
      "  merged_data = pd.merge(merged_data, vh_desc, on='osm_id', how='left')\n"
     ]
    }
   ],
   "source": [
    "def merge_data(buildings, vv_asc, vv_desc, vh_asc, vh_desc):\n",
    "    merged_data = pd.merge(buildings, vv_asc, on='osm_id', how='left')\n",
    "    merged_data = pd.merge(merged_data, vv_desc, on='osm_id', how='left')\n",
    "    merged_data = pd.merge(merged_data, vh_asc, on='osm_id', how='left')\n",
    "    merged_data = pd.merge(merged_data, vh_desc, on='osm_id', how='left')\n",
    "    merged_data = pd.merge(merged_data, sentinel_2, on='osm_id', how='left')\n",
    "    return merged_data\n",
    "\n",
    "\n",
    "\n",
    "merged_data = merge_data(buildings, vv_asc, vv_desc, vh_asc, vh_desc)\n",
    "\n",
    "\n"
   ]
  },
  {
   "cell_type": "code",
   "execution_count": 69,
   "metadata": {},
   "outputs": [
    {
     "data": {
      "text/html": [
       "<div>\n",
       "<style scoped>\n",
       "    .dataframe tbody tr th:only-of-type {\n",
       "        vertical-align: middle;\n",
       "    }\n",
       "\n",
       "    .dataframe tbody tr th {\n",
       "        vertical-align: top;\n",
       "    }\n",
       "\n",
       "    .dataframe thead th {\n",
       "        text-align: right;\n",
       "    }\n",
       "</style>\n",
       "<table border=\"1\" class=\"dataframe\">\n",
       "  <thead>\n",
       "    <tr style=\"text-align: right;\">\n",
       "      <th></th>\n",
       "      <th>OID</th>\n",
       "      <th>osm_id</th>\n",
       "      <th>code</th>\n",
       "      <th>fclass</th>\n",
       "      <th>name</th>\n",
       "      <th>type</th>\n",
       "      <th>OBJECTID_x</th>\n",
       "      <th>ZONE_CODE_x</th>\n",
       "      <th>COUNT_x</th>\n",
       "      <th>AREA_x</th>\n",
       "      <th>...</th>\n",
       "      <th>DIFF__POSTmean</th>\n",
       "      <th>DIFF__POSTmedian</th>\n",
       "      <th>DIFF__POSTstdev</th>\n",
       "      <th>DIFF__POSTmin</th>\n",
       "      <th>DIFF__POSTmax</th>\n",
       "      <th>DIFF__POSTrange</th>\n",
       "      <th>DIFF__POSTminority</th>\n",
       "      <th>DIFF__POSTmajority</th>\n",
       "      <th>DIFF__POSTvariety</th>\n",
       "      <th>DIFF__POSTvariance</th>\n",
       "    </tr>\n",
       "  </thead>\n",
       "  <tbody>\n",
       "    <tr>\n",
       "      <th>0</th>\n",
       "      <td>0</td>\n",
       "      <td>41242992</td>\n",
       "      <td>1500</td>\n",
       "      <td>building</td>\n",
       "      <td></td>\n",
       "      <td></td>\n",
       "      <td>1.0</td>\n",
       "      <td>1.0</td>\n",
       "      <td>2.0</td>\n",
       "      <td>1.613941e-08</td>\n",
       "      <td>...</td>\n",
       "      <td>-0.500000</td>\n",
       "      <td>-0.500000</td>\n",
       "      <td>0.916667</td>\n",
       "      <td>-1.416666</td>\n",
       "      <td>0.416667</td>\n",
       "      <td>1.833333</td>\n",
       "      <td>-1.416666</td>\n",
       "      <td>-1.416666</td>\n",
       "      <td>0</td>\n",
       "      <td>3.131944</td>\n",
       "    </tr>\n",
       "    <tr>\n",
       "      <th>1</th>\n",
       "      <td>1</td>\n",
       "      <td>41243003</td>\n",
       "      <td>1500</td>\n",
       "      <td>building</td>\n",
       "      <td>Agricultural Development Association</td>\n",
       "      <td>greenhouse</td>\n",
       "      <td>2.0</td>\n",
       "      <td>2.0</td>\n",
       "      <td>39.0</td>\n",
       "      <td>3.147184e-07</td>\n",
       "      <td>...</td>\n",
       "      <td>3.364815</td>\n",
       "      <td>1.166668</td>\n",
       "      <td>-2.362874</td>\n",
       "      <td>9.500000</td>\n",
       "      <td>0.416668</td>\n",
       "      <td>-9.083332</td>\n",
       "      <td>9.500000</td>\n",
       "      <td>-0.500000</td>\n",
       "      <td>-1</td>\n",
       "      <td>-21.612811</td>\n",
       "    </tr>\n",
       "    <tr>\n",
       "      <th>2</th>\n",
       "      <td>2</td>\n",
       "      <td>41243077</td>\n",
       "      <td>1500</td>\n",
       "      <td>building</td>\n",
       "      <td>El Arabia Company for the Manufacture of Water...</td>\n",
       "      <td>industrial</td>\n",
       "      <td>3.0</td>\n",
       "      <td>3.0</td>\n",
       "      <td>16.0</td>\n",
       "      <td>1.291153e-07</td>\n",
       "      <td>...</td>\n",
       "      <td>-3.583333</td>\n",
       "      <td>-2.250000</td>\n",
       "      <td>0.089061</td>\n",
       "      <td>-4.583334</td>\n",
       "      <td>-4.500000</td>\n",
       "      <td>0.083334</td>\n",
       "      <td>-4.583334</td>\n",
       "      <td>-7.083334</td>\n",
       "      <td>3</td>\n",
       "      <td>1.025466</td>\n",
       "    </tr>\n",
       "    <tr>\n",
       "      <th>3</th>\n",
       "      <td>3</td>\n",
       "      <td>41243136</td>\n",
       "      <td>1500</td>\n",
       "      <td>building</td>\n",
       "      <td>Beit Hanoun Municipality</td>\n",
       "      <td></td>\n",
       "      <td>4.0</td>\n",
       "      <td>4.0</td>\n",
       "      <td>8.0</td>\n",
       "      <td>6.455763e-08</td>\n",
       "      <td>...</td>\n",
       "      <td>-3.750000</td>\n",
       "      <td>-6.499999</td>\n",
       "      <td>-2.818262</td>\n",
       "      <td>1.166667</td>\n",
       "      <td>-5.750001</td>\n",
       "      <td>-6.916668</td>\n",
       "      <td>1.166667</td>\n",
       "      <td>-9.750001</td>\n",
       "      <td>0</td>\n",
       "      <td>-15.853176</td>\n",
       "    </tr>\n",
       "    <tr>\n",
       "      <th>4</th>\n",
       "      <td>4</td>\n",
       "      <td>41243268</td>\n",
       "      <td>1500</td>\n",
       "      <td>building</td>\n",
       "      <td>El Balawi Farming</td>\n",
       "      <td></td>\n",
       "      <td>5.0</td>\n",
       "      <td>5.0</td>\n",
       "      <td>27.0</td>\n",
       "      <td>2.178820e-07</td>\n",
       "      <td>...</td>\n",
       "      <td>-18.688172</td>\n",
       "      <td>-19.000002</td>\n",
       "      <td>-1.094499</td>\n",
       "      <td>-17.916666</td>\n",
       "      <td>-18.833336</td>\n",
       "      <td>-0.916670</td>\n",
       "      <td>-17.916666</td>\n",
       "      <td>-20.083334</td>\n",
       "      <td>0</td>\n",
       "      <td>-11.496125</td>\n",
       "    </tr>\n",
       "  </tbody>\n",
       "</table>\n",
       "<p>5 rows × 71 columns</p>\n",
       "</div>"
      ],
      "text/plain": [
       "   OID    osm_id  code    fclass  \\\n",
       "0    0  41242992  1500  building   \n",
       "1    1  41243003  1500  building   \n",
       "2    2  41243077  1500  building   \n",
       "3    3  41243136  1500  building   \n",
       "4    4  41243268  1500  building   \n",
       "\n",
       "                                                name        type  OBJECTID_x  \\\n",
       "0                                                                        1.0   \n",
       "1               Agricultural Development Association  greenhouse         2.0   \n",
       "2  El Arabia Company for the Manufacture of Water...  industrial         3.0   \n",
       "3                           Beit Hanoun Municipality                     4.0   \n",
       "4                                  El Balawi Farming                     5.0   \n",
       "\n",
       "   ZONE_CODE_x  COUNT_x        AREA_x  ...  DIFF__POSTmean  DIFF__POSTmedian  \\\n",
       "0          1.0      2.0  1.613941e-08  ...       -0.500000         -0.500000   \n",
       "1          2.0     39.0  3.147184e-07  ...        3.364815          1.166668   \n",
       "2          3.0     16.0  1.291153e-07  ...       -3.583333         -2.250000   \n",
       "3          4.0      8.0  6.455763e-08  ...       -3.750000         -6.499999   \n",
       "4          5.0     27.0  2.178820e-07  ...      -18.688172        -19.000002   \n",
       "\n",
       "   DIFF__POSTstdev  DIFF__POSTmin  DIFF__POSTmax  DIFF__POSTrange  \\\n",
       "0         0.916667      -1.416666       0.416667         1.833333   \n",
       "1        -2.362874       9.500000       0.416668        -9.083332   \n",
       "2         0.089061      -4.583334      -4.500000         0.083334   \n",
       "3        -2.818262       1.166667      -5.750001        -6.916668   \n",
       "4        -1.094499     -17.916666     -18.833336        -0.916670   \n",
       "\n",
       "   DIFF__POSTminority  DIFF__POSTmajority  DIFF__POSTvariety  \\\n",
       "0           -1.416666           -1.416666                  0   \n",
       "1            9.500000           -0.500000                 -1   \n",
       "2           -4.583334           -7.083334                  3   \n",
       "3            1.166667           -9.750001                  0   \n",
       "4          -17.916666          -20.083334                  0   \n",
       "\n",
       "   DIFF__POSTvariance  \n",
       "0            3.131944  \n",
       "1          -21.612811  \n",
       "2            1.025466  \n",
       "3          -15.853176  \n",
       "4          -11.496125  \n",
       "\n",
       "[5 rows x 71 columns]"
      ]
     },
     "execution_count": 69,
     "metadata": {},
     "output_type": "execute_result"
    }
   ],
   "source": [
    "merged_data.head(5)"
   ]
  },
  {
   "cell_type": "code",
   "execution_count": 70,
   "metadata": {},
   "outputs": [
    {
     "data": {
      "text/plain": [
       "Index(['OID', 'osm_id', 'code', 'fclass', 'name', 'type', 'OBJECTID_x',\n",
       "       'ZONE_CODE_x', 'COUNT_x', 'AREA_x', 'MIN_VV_asc', 'MAX_VV_asc',\n",
       "       'MEAN_vv_asc', 'OBJECTID_y', 'ZONE_CODE_y', 'COUNT_y', 'AREA_y',\n",
       "       'MIN_VV_desc', 'MAX_VV_desc', 'MEAN_VV_desc', 'OBJECTID_x',\n",
       "       'ZONE_CODE_x', 'COUNT_x', 'AREA_x', 'MIN_VH_asc', 'MAX_VH_asc',\n",
       "       'MEAN_VH_asc', 'OBJECTID_y', 'ZONE_CODE_y', 'COUNT_y', 'AREA_y',\n",
       "       'MIN_VH_desc', 'MAX_VH_desc', 'MEAN_VH_desc', 'damaged', '_POSTcount',\n",
       "       '_POSTsum', '_POSTmean', '_POSTmedian', '_POSTstdev', '_POSTmin',\n",
       "       '_POSTmax', '_POSTrange', '_POSTminority', '_POSTmajority',\n",
       "       '_POSTvariety', '_POSTvariance', '_PREcount', '_PREsum', '_PREmean',\n",
       "       '_PREmedian', '_PREstdev', '_PREmin', '_PREmax', '_PRErange',\n",
       "       '_PREminority', '_PREmajority', '_PREvariety', '_PREvariance',\n",
       "       'DIFF__POSTcount', 'DIFF__POSTsum', 'DIFF__POSTmean',\n",
       "       'DIFF__POSTmedian', 'DIFF__POSTstdev', 'DIFF__POSTmin', 'DIFF__POSTmax',\n",
       "       'DIFF__POSTrange', 'DIFF__POSTminority', 'DIFF__POSTmajority',\n",
       "       'DIFF__POSTvariety', 'DIFF__POSTvariance'],\n",
       "      dtype='object')"
      ]
     },
     "execution_count": 70,
     "metadata": {},
     "output_type": "execute_result"
    }
   ],
   "source": [
    "merged_data.columns"
   ]
  },
  {
   "cell_type": "code",
   "execution_count": 58,
   "metadata": {},
   "outputs": [
    {
     "name": "stdout",
     "output_type": "stream",
     "text": [
      "osm_id                  0\n",
      "name                    0\n",
      "MIN_VH_asc            309\n",
      "MIN_VH_desc           309\n",
      "MIN_VV_asc            309\n",
      "MIN_VV_desc           309\n",
      "MAX_VH_asc            309\n",
      "MAX_VH_desc           309\n",
      "MAX_VV_asc            309\n",
      "MAX_VV_desc           309\n",
      "MEAN_VH_asc           309\n",
      "MEAN_VH_desc          309\n",
      "MEAN_vv_asc           309\n",
      "MEAN_VV_desc          309\n",
      "damaged                 0\n",
      "DIFF__POSTmean          0\n",
      "DIFF__POSTmin           0\n",
      "DIFF__POSTmax           0\n",
      "DIFF__POSTstdev         0\n",
      "DIFF__POSTminority      0\n",
      "DIFF__POSTmajority      0\n",
      "DIFF__POSTvariance      0\n",
      "dtype: int64\n"
     ]
    }
   ],
   "source": [
    "def remove_columns(merged_data):\n",
    "    merged_data = merged_data[['osm_id', 'name', 'MIN_VH_asc', 'MIN_VH_desc', 'MIN_VV_asc', 'MIN_VV_desc', 'MAX_VH_asc', 'MAX_VH_desc', 'MAX_VV_asc', 'MAX_VV_desc', 'MEAN_VH_asc', 'MEAN_VH_desc', 'MEAN_vv_asc', 'MEAN_VV_desc', 'damaged', 'DIFF__POSTmean', 'DIFF__POSTmin',\n",
    "                               'DIFF__POSTmax', 'DIFF__POSTstdev', 'DIFF__POSTminority', 'DIFF__POSTmajority', 'DIFF__POSTvariance']]\n",
    "    return merged_data\n",
    "\n",
    "merged_data = remove_columns(merged_data)\n",
    "\n",
    "na_counts = merged_data.isna().sum()\n",
    "print(na_counts)\n"
   ]
  },
  {
   "cell_type": "code",
   "execution_count": 89,
   "metadata": {},
   "outputs": [
    {
     "name": "stdout",
     "output_type": "stream",
     "text": [
      "              precision    recall  f1-score   support\n",
      "\n",
      "           0       0.58      0.65      0.61       300\n",
      "           1       0.57      0.50      0.53       286\n",
      "\n",
      "    accuracy                           0.58       586\n",
      "   macro avg       0.58      0.57      0.57       586\n",
      "weighted avg       0.58      0.58      0.57       586\n",
      "\n"
     ]
    }
   ],
   "source": [
    "\n",
    "merged_data = merged_data.dropna()\n",
    "\n",
    "X = merged_data[['MIN_VH_asc', 'MIN_VH_desc', 'MIN_VV_asc', 'MIN_VV_desc', 'MAX_VH_asc', 'MAX_VH_desc', 'MAX_VV_asc', 'MAX_VV_desc', 'MEAN_VH_asc', 'MEAN_VH_desc', 'MEAN_vv_asc', 'MEAN_VV_desc',\n",
    "                  'DIFF__POSTmean', 'DIFF__POSTmin', 'DIFF__POSTmax', 'DIFF__POSTstdev', 'DIFF__POSTvariance']]\n",
    "y = merged_data['damaged']\n",
    "\n",
    "# Create a boolean mask where each value is True if the ID is in the test set, False otherwise\n",
    "test_mask = merged_data['osm_id'].isin(test_ids['osm_id'])\n",
    "\n",
    "# Use the mask to get the test set\n",
    "X_test = X[test_mask]\n",
    "y_test = y[test_mask]\n",
    "\n",
    "# Use the inverse of the mask to get the training set\n",
    "X_train = X[~test_mask]\n",
    "y_train = y[~test_mask]\n",
    "\n",
    "clf = RandomForestClassifier(n_estimators=100, max_depth=100, random_state=0)\n",
    "clf.fit(X_train, y_train)\n",
    "\n",
    "y_pred = clf.predict(X_test)\n",
    "\n",
    "accuracy_score(y_test, y_pred)\n",
    "\n",
    "from sklearn.metrics import confusion_matrix\n",
    "matrix = confusion_matrix(y_test, y_pred)\n",
    "\n",
    "from sklearn.metrics import classification_report\n",
    "print(classification_report(y_test, y_pred))"
   ]
  },
  {
   "cell_type": "code",
   "execution_count": 90,
   "metadata": {},
   "outputs": [
    {
     "data": {
      "image/png": "[encoded data removed]",
      "text/plain": [
       "<Figure size 640x480 with 1 Axes>"
      ]
     },
     "metadata": {},
     "output_type": "display_data"
    }
   ],
   "source": [
    "from sklearn.metrics import roc_auc_score\n",
    "roc_auc_score(y_test, y_pred)\n",
    "\n",
    "from sklearn.metrics import roc_curve\n",
    "fpr, tpr, thresholds = roc_curve(y_test, y_pred)\n",
    "\n",
    "plt.plot(fpr, tpr)\n",
    "plt.plot([0, 1], [0, 1], 'k--')\n",
    "plt.xlabel('False Positive Rate')\n",
    "plt.ylabel('True Positive Rate')\n",
    "plt.title('ROC curve')\n",
    "plt.show()\n"
   ]
  },
  {
   "cell_type": "code",
   "execution_count": 91,
   "metadata": {},
   "outputs": [
    {
     "data": {
      "text/plain": [
       "[Text(0, 0.5, '0'), Text(0, 1.5, '1')]"
      ]
     },
     "execution_count": 91,
     "metadata": {},
     "output_type": "execute_result"
    },
    {
     "data": {
      "image/png": "[encoded data removed]",
      "text/plain": [
       "<Figure size 640x480 with 2 Axes>"
      ]
     },
     "metadata": {},
     "output_type": "display_data"
    }
   ],
   "source": [
    "heatmap = sns.heatmap(matrix, annot=True, fmt=\"d\")\n",
    "heatmap.yaxis.set_ticklabels(heatmap.yaxis.get_ticklabels(), rotation=0, ha='right')"
   ]
  },
  {
   "cell_type": "code",
   "execution_count": 74,
   "metadata": {},
   "outputs": [
    {
     "data": {
      "image/png": "[encoded data removed]",
      "text/plain": [
       "<Figure size 1000x500 with 1 Axes>"
      ]
     },
     "metadata": {},
     "output_type": "display_data"
    }
   ],
   "source": [
    "# show importance of features\n",
    "importances = clf.feature_importances_\n",
    "indices = np.argsort(importances)[::-1]\n",
    "features = X.columns\n",
    "plt.figure(figsize=(10, 5))\n",
    "plt.title(\"Feature importances\")\n",
    "plt.bar(range(X.shape[1]), importances[indices], align='center')\n",
    "plt.xticks(range(X.shape[1]), [features[i] for i in indices], rotation=90)\n",
    "plt.xlim([-1, X.shape[1]])\n",
    "plt.show()\n"
   ]
  },
  {
   "cell_type": "code",
   "execution_count": 109,
   "metadata": {},
   "outputs": [
    {
     "data": {
      "text/html": [
       "<div>\n",
       "<style scoped>\n",
       "    .dataframe tbody tr th:only-of-type {\n",
       "        vertical-align: middle;\n",
       "    }\n",
       "\n",
       "    .dataframe tbody tr th {\n",
       "        vertical-align: top;\n",
       "    }\n",
       "\n",
       "    .dataframe thead th {\n",
       "        text-align: right;\n",
       "    }\n",
       "</style>\n",
       "<table border=\"1\" class=\"dataframe\">\n",
       "  <thead>\n",
       "    <tr style=\"text-align: right;\">\n",
       "      <th></th>\n",
       "      <th>osm_id</th>\n",
       "      <th>damage</th>\n",
       "      <th>prediction</th>\n",
       "    </tr>\n",
       "  </thead>\n",
       "  <tbody>\n",
       "    <tr>\n",
       "      <th>0</th>\n",
       "      <td>41244709</td>\n",
       "      <td>1</td>\n",
       "      <td>0</td>\n",
       "    </tr>\n",
       "    <tr>\n",
       "      <th>1</th>\n",
       "      <td>41245117</td>\n",
       "      <td>1</td>\n",
       "      <td>0</td>\n",
       "    </tr>\n",
       "    <tr>\n",
       "      <th>2</th>\n",
       "      <td>296470526</td>\n",
       "      <td>0</td>\n",
       "      <td>0</td>\n",
       "    </tr>\n",
       "    <tr>\n",
       "      <th>3</th>\n",
       "      <td>300006188</td>\n",
       "      <td>0</td>\n",
       "      <td>0</td>\n",
       "    </tr>\n",
       "    <tr>\n",
       "      <th>4</th>\n",
       "      <td>301632602</td>\n",
       "      <td>1</td>\n",
       "      <td>0</td>\n",
       "    </tr>\n",
       "  </tbody>\n",
       "</table>\n",
       "</div>"
      ],
      "text/plain": [
       "      osm_id  damage  prediction\n",
       "0   41244709       1           0\n",
       "1   41245117       1           0\n",
       "2  296470526       0           0\n",
       "3  300006188       0           0\n",
       "4  301632602       1           0"
      ]
     },
     "execution_count": 109,
     "metadata": {},
     "output_type": "execute_result"
    }
   ],
   "source": [
    "# Create a df with the test results and the osm_id and the real values\n",
    "results = pd.DataFrame(y_pred, columns=['prediction'])\n",
    "results['osm_id'] = merged_data['osm_id'][test_mask].values\n",
    "results['damage'] = y_test.values\n",
    "\n",
    "# shift the columns so that osm_id is the first column\n",
    "cols = results.columns.tolist()\n",
    "cols = cols[-2:] + cols[:-2]\n",
    "results = results[cols]\n",
    "\n",
    "# save the results to a csv file\n",
    "results.to_csv('Scratch/results.csv', index=False)\n",
    "\n",
    "\n",
    "results.head(5)\n"
   ]
  }
 ],
 "metadata": {
  "kernelspec": {
   "display_name": "ssml2024",
   "language": "python",
   "name": "python3"
  },
  "language_info": {
   "codemirror_mode": {
    "name": "ipython",
    "version": 3
   },
   "file_extension": ".py",
   "mimetype": "text/x-python",
   "name": "python",
   "nbconvert_exporter": "python",
   "pygments_lexer": "ipython3",
   "version": "3.11.5"
  }
 },
 "nbformat": 4,
 "nbformat_minor": 2
}
