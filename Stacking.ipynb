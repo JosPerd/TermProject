{
 "cells": [
  {
   "cell_type": "code",
   "execution_count": 1,
   "id": "initial_id",
   "metadata": {
    "collapsed": true,
    "ExecuteTime": {
     "end_time": "2024-04-02T08:25:21.286545Z",
     "start_time": "2024-04-02T08:25:14.288345Z"
    }
   },
   "outputs": [],
   "source": [
    "import rasterio\n",
    "import numpy as np\n",
    "import rioxarray\n",
    "from planetary_computer import sign\n",
    "import pystac\n",
    "import matplotlib.pyplot as plt\n",
    "from collections import defaultdict\n",
    "import json\n",
    "import glob\n",
    "from rasterio.plot import show\n",
    "import os\n",
    "from rasterio.enums import Resampling"
   ]
  },
  {
   "cell_type": "code",
   "outputs": [
    {
     "ename": "ValueError",
     "evalue": "all the input array dimensions except for the concatenation axis must match exactly, but along dimension 1, the array at index 0 has size 10980 and the array at index 4 has size 1830",
     "output_type": "error",
     "traceback": [
      "\u001B[0;31m---------------------------------------------------------------------------\u001B[0m",
      "\u001B[0;31mValueError\u001B[0m                                Traceback (most recent call last)",
      "Cell \u001B[0;32mIn[4], line 41\u001B[0m\n\u001B[1;32m     38\u001B[0m side_length \u001B[38;5;241m=\u001B[39m config[\u001B[38;5;124m'\u001B[39m\u001B[38;5;124mside_length\u001B[39m\u001B[38;5;124m'\u001B[39m]\n\u001B[1;32m     39\u001B[0m output_dir \u001B[38;5;241m=\u001B[39m config[\u001B[38;5;124m'\u001B[39m\u001B[38;5;124moutput_dir\u001B[39m\u001B[38;5;124m'\u001B[39m]\n\u001B[0;32m---> 41\u001B[0m \u001B[43msave_bands_as_stacked_tif\u001B[49m\u001B[43m(\u001B[49m\u001B[43mpre_event_url\u001B[49m\u001B[43m,\u001B[49m\u001B[43m \u001B[49m\u001B[43mbands\u001B[49m\u001B[43m,\u001B[49m\u001B[43m \u001B[49m\u001B[43moutput_dir\u001B[49m\u001B[43m,\u001B[49m\u001B[43m \u001B[49m\u001B[43mxmin\u001B[49m\u001B[43m,\u001B[49m\u001B[43m \u001B[49m\u001B[43mxmax\u001B[49m\u001B[43m,\u001B[49m\u001B[43m \u001B[49m\u001B[43mymin\u001B[49m\u001B[43m,\u001B[49m\u001B[43m \u001B[49m\u001B[43mymax\u001B[49m\u001B[43m,\u001B[49m\u001B[43m \u001B[49m\u001B[38;5;124;43m\"\u001B[39;49m\u001B[38;5;124;43mPre\u001B[39;49m\u001B[38;5;124;43m\"\u001B[39;49m\u001B[43m)\u001B[49m\n",
      "Cell \u001B[0;32mIn[4], line 14\u001B[0m, in \u001B[0;36msave_bands_as_stacked_tif\u001B[0;34m(item_url, bands, output_dir, xmin, xmax, ymin, ymax, pre_post)\u001B[0m\n\u001B[1;32m     11\u001B[0m     bands_data\u001B[38;5;241m.\u001B[39mappend(ds)\n\u001B[1;32m     13\u001B[0m \u001B[38;5;66;03m# Stack bands\u001B[39;00m\n\u001B[0;32m---> 14\u001B[0m stacked_bands \u001B[38;5;241m=\u001B[39m \u001B[43mnp\u001B[49m\u001B[38;5;241;43m.\u001B[39;49m\u001B[43mdstack\u001B[49m\u001B[43m(\u001B[49m\u001B[43mbands_data\u001B[49m\u001B[43m)\u001B[49m\n\u001B[1;32m     16\u001B[0m \u001B[38;5;66;03m# Define output filename\u001B[39;00m\n\u001B[1;32m     17\u001B[0m output_filename \u001B[38;5;241m=\u001B[39m os\u001B[38;5;241m.\u001B[39mpath\u001B[38;5;241m.\u001B[39mjoin(output_dir, \u001B[38;5;124mf\u001B[39m\u001B[38;5;124m\"\u001B[39m\u001B[38;5;124mstacked_\u001B[39m\u001B[38;5;132;01m{\u001B[39;00mpre_post\u001B[38;5;132;01m}\u001B[39;00m\u001B[38;5;124m.tif\u001B[39m\u001B[38;5;124m\"\u001B[39m)\n",
      "File \u001B[0;32m~/miniconda3/envs/ssml2024/lib/python3.11/site-packages/numpy/lib/shape_base.py:715\u001B[0m, in \u001B[0;36mdstack\u001B[0;34m(tup)\u001B[0m\n\u001B[1;32m    713\u001B[0m \u001B[38;5;28;01mif\u001B[39;00m \u001B[38;5;129;01mnot\u001B[39;00m \u001B[38;5;28misinstance\u001B[39m(arrs, \u001B[38;5;28mlist\u001B[39m):\n\u001B[1;32m    714\u001B[0m     arrs \u001B[38;5;241m=\u001B[39m [arrs]\n\u001B[0;32m--> 715\u001B[0m \u001B[38;5;28;01mreturn\u001B[39;00m \u001B[43m_nx\u001B[49m\u001B[38;5;241;43m.\u001B[39;49m\u001B[43mconcatenate\u001B[49m\u001B[43m(\u001B[49m\u001B[43marrs\u001B[49m\u001B[43m,\u001B[49m\u001B[43m \u001B[49m\u001B[38;5;241;43m2\u001B[39;49m\u001B[43m)\u001B[49m\n",
      "\u001B[0;31mValueError\u001B[0m: all the input array dimensions except for the concatenation axis must match exactly, but along dimension 1, the array at index 0 has size 10980 and the array at index 4 has size 1830"
     ]
    }
   ],
   "source": [
    "\n",
    "def save_bands_as_stacked_tif(item_url, bands, output_dir, xmin, xmax, ymin, ymax, pre_post):\n",
    "    item = pystac.Item.from_file(item_url)\n",
    "    signed_item = sign(item)\n",
    "\n",
    "    bands_data = []\n",
    "    for band in bands:\n",
    "        asset_href = signed_item.assets[band].href\n",
    "        ds = rioxarray.open_rasterio(asset_href)\n",
    "\n",
    "        # ds_cropped = ds.rio.clip_box(minx=xmin, miny=ymin, maxx=xmax, maxy=ymax)\n",
    "        bands_data.append(ds)\n",
    "\n",
    "    # Stack bands\n",
    "    stacked_bands = np.dstack(bands_data)\n",
    "\n",
    "    # Define output filename\n",
    "    output_filename = os.path.join(output_dir, f\"stacked_{pre_post}.tif\")\n",
    "\n",
    "    # Get metadata from ds\n",
    "    meta = ds.meta\n",
    "\n",
    "    # Update count value to the rasterio metadata\n",
    "    meta.update(count=len(bands))\n",
    "\n",
    "    # Save stacked raster\n",
    "    with rasterio.open(output_filename, 'w', **meta) as dst:\n",
    "        dst.write(stacked_bands)\n",
    "\n",
    "    print(f\"Stacked raster saved at: {output_filename}\")\n",
    "    \n",
    "with open('Data/config.json', 'r') as json_file:\n",
    "    config = json.load(json_file)\n",
    "    \n",
    "pre_event_url = config['pre_event_url']\n",
    "post_event_url = config['post_event_url']\n",
    "bands = config['bands']\n",
    "xmin, xmax, ymin, ymax = config['coords']\n",
    "side_length = config['side_length']\n",
    "output_dir = config['output_dir']\n",
    "\n",
    "save_bands_as_stacked_tif(pre_event_url, bands, output_dir, xmin, xmax, ymin, ymax, \"Pre\")"
   ],
   "metadata": {
    "collapsed": false,
    "ExecuteTime": {
     "end_time": "2024-04-02T08:30:31.734288Z",
     "start_time": "2024-04-02T08:28:43.451965Z"
    }
   },
   "id": "b4b929f9e594cf23",
   "execution_count": 4
  },
  {
   "cell_type": "code",
   "outputs": [],
   "source": [],
   "metadata": {
    "collapsed": false
   },
   "id": "eeb29b0fbe1f393a"
  }
 ],
 "metadata": {
  "kernelspec": {
   "display_name": "Python 3",
   "language": "python",
   "name": "python3"
  },
  "language_info": {
   "codemirror_mode": {
    "name": "ipython",
    "version": 2
   },
   "file_extension": ".py",
   "mimetype": "text/x-python",
   "name": "python",
   "nbconvert_exporter": "python",
   "pygments_lexer": "ipython2",
   "version": "2.7.6"
  }
 },
 "nbformat": 4,
 "nbformat_minor": 5
}
